{
  "cells": [
    {
      "cell_type": "code",
      "execution_count": 1,
      "id": "0eaefaf7",
      "metadata": {
        "id": "0eaefaf7"
      },
      "outputs": [],
      "source": [
        "import pandas as pd \n",
        "import numpy as np \n",
        "import matplotlib.pyplot as plt\n",
        "import seaborn as sns\n",
        "import re  \n",
        "import warnings\n",
        "import os \n",
        "warnings.filterwarnings(\"ignore\")\n",
        "%matplotlib inline\n",
        "plt.rcParams['figure.figsize'] = [8,5]\n",
        "plt.rcParams['font.size'] =14\n",
        "plt.rcParams['font.weight']= 'bold'\n",
        "sns.set()"
      ]
    },
    {
      "cell_type": "code",
      "execution_count": 2,
      "id": "010c87bd",
      "metadata": {
        "id": "010c87bd"
      },
      "outputs": [],
      "source": [
        "import torch\n",
        "import torch.nn as n \n",
        "import torch.optim as optim\n",
        "import torch.nn.functional as F \n",
        "from torch.utils.data import DataLoader \n",
        "import torchvision.datasets as datasets \n",
        "import torchvision.transforms as tt\n",
        "import torchtext\n",
        "from textblob import TextBlob \n",
        "from wordcloud import WordCloud"
      ]
    },
    {
      "cell_type": "code",
      "execution_count": 4,
      "id": "2ced9643",
      "metadata": {
        "colab": {
          "base_uri": "https://localhost:8080/",
          "height": 357
        },
        "id": "2ced9643",
        "outputId": "e7eb4f50-7e47-48f9-fac8-c6075bac83df"
      },
      "outputs": [
        {
          "output_type": "execute_result",
          "data": {
            "text/plain": [
              "  Item_Identifier  Item_Weight Item_Fat_Content  Item_Visibility  \\\n",
              "0           FDA15         9.30          Low Fat         0.016047   \n",
              "1           DRC01         5.92          Regular         0.019278   \n",
              "2           FDN15        17.50          Low Fat         0.016760   \n",
              "3           FDX07        19.20          Regular         0.000000   \n",
              "4           NCD19         8.93          Low Fat         0.000000   \n",
              "\n",
              "               Item_Type  Item_MRP Outlet_Identifier  \\\n",
              "0                  Dairy  249.8092            OUT049   \n",
              "1            Soft Drinks   48.2692            OUT018   \n",
              "2                   Meat  141.6180            OUT049   \n",
              "3  Fruits and Vegetables  182.0950            OUT010   \n",
              "4              Household   53.8614            OUT013   \n",
              "\n",
              "   Outlet_Establishment_Year Outlet_Size Outlet_Location_Type  \\\n",
              "0                       1999      Medium               Tier 1   \n",
              "1                       2009      Medium               Tier 3   \n",
              "2                       1999      Medium               Tier 1   \n",
              "3                       1998         NaN               Tier 3   \n",
              "4                       1987        High               Tier 3   \n",
              "\n",
              "         Outlet_Type  Item_Outlet_Sales  \n",
              "0  Supermarket Type1          3735.1380  \n",
              "1  Supermarket Type2           443.4228  \n",
              "2  Supermarket Type1          2097.2700  \n",
              "3      Grocery Store           732.3800  \n",
              "4  Supermarket Type1           994.7052  "
            ],
            "text/html": [
              "\n",
              "  <div id=\"df-44ee415e-7bba-4352-bca0-9f767850c307\">\n",
              "    <div class=\"colab-df-container\">\n",
              "      <div>\n",
              "<style scoped>\n",
              "    .dataframe tbody tr th:only-of-type {\n",
              "        vertical-align: middle;\n",
              "    }\n",
              "\n",
              "    .dataframe tbody tr th {\n",
              "        vertical-align: top;\n",
              "    }\n",
              "\n",
              "    .dataframe thead th {\n",
              "        text-align: right;\n",
              "    }\n",
              "</style>\n",
              "<table border=\"1\" class=\"dataframe\">\n",
              "  <thead>\n",
              "    <tr style=\"text-align: right;\">\n",
              "      <th></th>\n",
              "      <th>Item_Identifier</th>\n",
              "      <th>Item_Weight</th>\n",
              "      <th>Item_Fat_Content</th>\n",
              "      <th>Item_Visibility</th>\n",
              "      <th>Item_Type</th>\n",
              "      <th>Item_MRP</th>\n",
              "      <th>Outlet_Identifier</th>\n",
              "      <th>Outlet_Establishment_Year</th>\n",
              "      <th>Outlet_Size</th>\n",
              "      <th>Outlet_Location_Type</th>\n",
              "      <th>Outlet_Type</th>\n",
              "      <th>Item_Outlet_Sales</th>\n",
              "    </tr>\n",
              "  </thead>\n",
              "  <tbody>\n",
              "    <tr>\n",
              "      <th>0</th>\n",
              "      <td>FDA15</td>\n",
              "      <td>9.30</td>\n",
              "      <td>Low Fat</td>\n",
              "      <td>0.016047</td>\n",
              "      <td>Dairy</td>\n",
              "      <td>249.8092</td>\n",
              "      <td>OUT049</td>\n",
              "      <td>1999</td>\n",
              "      <td>Medium</td>\n",
              "      <td>Tier 1</td>\n",
              "      <td>Supermarket Type1</td>\n",
              "      <td>3735.1380</td>\n",
              "    </tr>\n",
              "    <tr>\n",
              "      <th>1</th>\n",
              "      <td>DRC01</td>\n",
              "      <td>5.92</td>\n",
              "      <td>Regular</td>\n",
              "      <td>0.019278</td>\n",
              "      <td>Soft Drinks</td>\n",
              "      <td>48.2692</td>\n",
              "      <td>OUT018</td>\n",
              "      <td>2009</td>\n",
              "      <td>Medium</td>\n",
              "      <td>Tier 3</td>\n",
              "      <td>Supermarket Type2</td>\n",
              "      <td>443.4228</td>\n",
              "    </tr>\n",
              "    <tr>\n",
              "      <th>2</th>\n",
              "      <td>FDN15</td>\n",
              "      <td>17.50</td>\n",
              "      <td>Low Fat</td>\n",
              "      <td>0.016760</td>\n",
              "      <td>Meat</td>\n",
              "      <td>141.6180</td>\n",
              "      <td>OUT049</td>\n",
              "      <td>1999</td>\n",
              "      <td>Medium</td>\n",
              "      <td>Tier 1</td>\n",
              "      <td>Supermarket Type1</td>\n",
              "      <td>2097.2700</td>\n",
              "    </tr>\n",
              "    <tr>\n",
              "      <th>3</th>\n",
              "      <td>FDX07</td>\n",
              "      <td>19.20</td>\n",
              "      <td>Regular</td>\n",
              "      <td>0.000000</td>\n",
              "      <td>Fruits and Vegetables</td>\n",
              "      <td>182.0950</td>\n",
              "      <td>OUT010</td>\n",
              "      <td>1998</td>\n",
              "      <td>NaN</td>\n",
              "      <td>Tier 3</td>\n",
              "      <td>Grocery Store</td>\n",
              "      <td>732.3800</td>\n",
              "    </tr>\n",
              "    <tr>\n",
              "      <th>4</th>\n",
              "      <td>NCD19</td>\n",
              "      <td>8.93</td>\n",
              "      <td>Low Fat</td>\n",
              "      <td>0.000000</td>\n",
              "      <td>Household</td>\n",
              "      <td>53.8614</td>\n",
              "      <td>OUT013</td>\n",
              "      <td>1987</td>\n",
              "      <td>High</td>\n",
              "      <td>Tier 3</td>\n",
              "      <td>Supermarket Type1</td>\n",
              "      <td>994.7052</td>\n",
              "    </tr>\n",
              "  </tbody>\n",
              "</table>\n",
              "</div>\n",
              "      <button class=\"colab-df-convert\" onclick=\"convertToInteractive('df-44ee415e-7bba-4352-bca0-9f767850c307')\"\n",
              "              title=\"Convert this dataframe to an interactive table.\"\n",
              "              style=\"display:none;\">\n",
              "        \n",
              "  <svg xmlns=\"http://www.w3.org/2000/svg\" height=\"24px\"viewBox=\"0 0 24 24\"\n",
              "       width=\"24px\">\n",
              "    <path d=\"M0 0h24v24H0V0z\" fill=\"none\"/>\n",
              "    <path d=\"M18.56 5.44l.94 2.06.94-2.06 2.06-.94-2.06-.94-.94-2.06-.94 2.06-2.06.94zm-11 1L8.5 8.5l.94-2.06 2.06-.94-2.06-.94L8.5 2.5l-.94 2.06-2.06.94zm10 10l.94 2.06.94-2.06 2.06-.94-2.06-.94-.94-2.06-.94 2.06-2.06.94z\"/><path d=\"M17.41 7.96l-1.37-1.37c-.4-.4-.92-.59-1.43-.59-.52 0-1.04.2-1.43.59L10.3 9.45l-7.72 7.72c-.78.78-.78 2.05 0 2.83L4 21.41c.39.39.9.59 1.41.59.51 0 1.02-.2 1.41-.59l7.78-7.78 2.81-2.81c.8-.78.8-2.07 0-2.86zM5.41 20L4 18.59l7.72-7.72 1.47 1.35L5.41 20z\"/>\n",
              "  </svg>\n",
              "      </button>\n",
              "      \n",
              "  <style>\n",
              "    .colab-df-container {\n",
              "      display:flex;\n",
              "      flex-wrap:wrap;\n",
              "      gap: 12px;\n",
              "    }\n",
              "\n",
              "    .colab-df-convert {\n",
              "      background-color: #E8F0FE;\n",
              "      border: none;\n",
              "      border-radius: 50%;\n",
              "      cursor: pointer;\n",
              "      display: none;\n",
              "      fill: #1967D2;\n",
              "      height: 32px;\n",
              "      padding: 0 0 0 0;\n",
              "      width: 32px;\n",
              "    }\n",
              "\n",
              "    .colab-df-convert:hover {\n",
              "      background-color: #E2EBFA;\n",
              "      box-shadow: 0px 1px 2px rgba(60, 64, 67, 0.3), 0px 1px 3px 1px rgba(60, 64, 67, 0.15);\n",
              "      fill: #174EA6;\n",
              "    }\n",
              "\n",
              "    [theme=dark] .colab-df-convert {\n",
              "      background-color: #3B4455;\n",
              "      fill: #D2E3FC;\n",
              "    }\n",
              "\n",
              "    [theme=dark] .colab-df-convert:hover {\n",
              "      background-color: #434B5C;\n",
              "      box-shadow: 0px 1px 3px 1px rgba(0, 0, 0, 0.15);\n",
              "      filter: drop-shadow(0px 1px 2px rgba(0, 0, 0, 0.3));\n",
              "      fill: #FFFFFF;\n",
              "    }\n",
              "  </style>\n",
              "\n",
              "      <script>\n",
              "        const buttonEl =\n",
              "          document.querySelector('#df-44ee415e-7bba-4352-bca0-9f767850c307 button.colab-df-convert');\n",
              "        buttonEl.style.display =\n",
              "          google.colab.kernel.accessAllowed ? 'block' : 'none';\n",
              "\n",
              "        async function convertToInteractive(key) {\n",
              "          const element = document.querySelector('#df-44ee415e-7bba-4352-bca0-9f767850c307');\n",
              "          const dataTable =\n",
              "            await google.colab.kernel.invokeFunction('convertToInteractive',\n",
              "                                                     [key], {});\n",
              "          if (!dataTable) return;\n",
              "\n",
              "          const docLinkHtml = 'Like what you see? Visit the ' +\n",
              "            '<a target=\"_blank\" href=https://colab.research.google.com/notebooks/data_table.ipynb>data table notebook</a>'\n",
              "            + ' to learn more about interactive tables.';\n",
              "          element.innerHTML = '';\n",
              "          dataTable['output_type'] = 'display_data';\n",
              "          await google.colab.output.renderOutput(dataTable, element);\n",
              "          const docLink = document.createElement('div');\n",
              "          docLink.innerHTML = docLinkHtml;\n",
              "          element.appendChild(docLink);\n",
              "        }\n",
              "      </script>\n",
              "    </div>\n",
              "  </div>\n",
              "  "
            ]
          },
          "metadata": {},
          "execution_count": 4
        }
      ],
      "source": [
        "df = pd.read_csv(\"./Dataset/Train.csv\")\n",
        "df.head()"
      ]
    },
    {
      "cell_type": "markdown",
      "source": [
        "##Some Basic Insights:\n",
        "\n",
        "\n",
        "*   What is the outlet that made the most money?\n",
        "*   Does Outlet_Type affect sales?\n",
        "*   Does Outlet_Location_Type affect sales?\n",
        "*   What is the item type that produced the most money?\n",
        "*   What is the most sold product?\n",
        "\n",
        "\n",
        "\n"
      ],
      "metadata": {
        "id": "2IeHp-gGVV6N"
      },
      "id": "2IeHp-gGVV6N"
    },
    {
      "cell_type": "code",
      "source": [
        "df.info()"
      ],
      "metadata": {
        "colab": {
          "base_uri": "https://localhost:8080/"
        },
        "id": "OCiDuBE5PAzF",
        "outputId": "30f738d7-0d6d-4b5a-9de4-27ea4eeade12"
      },
      "id": "OCiDuBE5PAzF",
      "execution_count": 5,
      "outputs": [
        {
          "output_type": "stream",
          "name": "stdout",
          "text": [
            "<class 'pandas.core.frame.DataFrame'>\n",
            "RangeIndex: 8523 entries, 0 to 8522\n",
            "Data columns (total 12 columns):\n",
            " #   Column                     Non-Null Count  Dtype  \n",
            "---  ------                     --------------  -----  \n",
            " 0   Item_Identifier            8523 non-null   object \n",
            " 1   Item_Weight                7060 non-null   float64\n",
            " 2   Item_Fat_Content           8523 non-null   object \n",
            " 3   Item_Visibility            8523 non-null   float64\n",
            " 4   Item_Type                  8523 non-null   object \n",
            " 5   Item_MRP                   8523 non-null   float64\n",
            " 6   Outlet_Identifier          8523 non-null   object \n",
            " 7   Outlet_Establishment_Year  8523 non-null   int64  \n",
            " 8   Outlet_Size                6113 non-null   object \n",
            " 9   Outlet_Location_Type       8523 non-null   object \n",
            " 10  Outlet_Type                8523 non-null   object \n",
            " 11  Item_Outlet_Sales          8523 non-null   float64\n",
            "dtypes: float64(4), int64(1), object(7)\n",
            "memory usage: 799.2+ KB\n"
          ]
        }
      ]
    },
    {
      "cell_type": "markdown",
      "source": [
        "### We can see that \"Item_Weight\" & \"Outlet_Type\" contain null values. Therefore, we need to fill these values. We want to find columns that are correlated to these two columns to use IterativeImputer. Or, we could fill them using the mean value."
      ],
      "metadata": {
        "id": "ywposw2fSAyw"
      },
      "id": "ywposw2fSAyw"
    },
    {
      "cell_type": "code",
      "source": [
        "df['Item_Fat_Content'].unique()"
      ],
      "metadata": {
        "colab": {
          "base_uri": "https://localhost:8080/"
        },
        "id": "73hFCOl9P6-a",
        "outputId": "d4fc007f-1884-483d-c246-5f02aa95844f"
      },
      "id": "73hFCOl9P6-a",
      "execution_count": 6,
      "outputs": [
        {
          "output_type": "execute_result",
          "data": {
            "text/plain": [
              "array(['Low Fat', 'Regular', 'low fat', 'LF', 'reg'], dtype=object)"
            ]
          },
          "metadata": {},
          "execution_count": 6
        }
      ]
    },
    {
      "cell_type": "code",
      "source": [
        "dic = {\n",
        "    \"Low Fat\" : \"low fat\",\n",
        "    \"LF\" : \"low fat\",\n",
        "    \"low fat\" : \"low fat\",\n",
        "    \"reg\" : \"Regular\",\n",
        "    \"Regular\" : \"Regular\",\n",
        "}\n",
        "df['Item_Fat_Content'].map(dic).unique()"
      ],
      "metadata": {
        "colab": {
          "base_uri": "https://localhost:8080/"
        },
        "id": "3RK3g6AaRJny",
        "outputId": "a4d21bac-fef7-4873-d151-1def567ac7ec"
      },
      "id": "3RK3g6AaRJny",
      "execution_count": 7,
      "outputs": [
        {
          "output_type": "execute_result",
          "data": {
            "text/plain": [
              "array(['low fat', 'Regular'], dtype=object)"
            ]
          },
          "metadata": {},
          "execution_count": 7
        }
      ]
    },
    {
      "cell_type": "code",
      "source": [
        "df['Item_Fat_Content'] = df['Item_Fat_Content'].map(dic)"
      ],
      "metadata": {
        "id": "1QjzBY9vRg7H"
      },
      "id": "1QjzBY9vRg7H",
      "execution_count": 8,
      "outputs": []
    },
    {
      "cell_type": "code",
      "source": [
        "df['Item_MRP'].corr(df['Item_Weight'])\n",
        "#weak correlation since it is not 1 or -1 or close to them."
      ],
      "metadata": {
        "colab": {
          "base_uri": "https://localhost:8080/"
        },
        "id": "3m20piOMRzI9",
        "outputId": "4ff884f9-c3dc-46e1-ae0f-7fb8320c9cee"
      },
      "id": "3m20piOMRzI9",
      "execution_count": 9,
      "outputs": [
        {
          "output_type": "execute_result",
          "data": {
            "text/plain": [
              "0.027141153883330566"
            ]
          },
          "metadata": {},
          "execution_count": 9
        }
      ]
    },
    {
      "cell_type": "code",
      "source": [
        "df['Item_Weight'].fillna(df['Item_Weight'].mean(), inplace = True)"
      ],
      "metadata": {
        "id": "PQS-vK43TNvb"
      },
      "id": "PQS-vK43TNvb",
      "execution_count": 10,
      "outputs": []
    },
    {
      "cell_type": "code",
      "source": [
        "df.info()"
      ],
      "metadata": {
        "colab": {
          "base_uri": "https://localhost:8080/"
        },
        "id": "4B6ZNNZ6UYgV",
        "outputId": "005f6745-5a93-4e0e-dfe7-4ee05c21bd8e"
      },
      "id": "4B6ZNNZ6UYgV",
      "execution_count": 11,
      "outputs": [
        {
          "output_type": "stream",
          "name": "stdout",
          "text": [
            "<class 'pandas.core.frame.DataFrame'>\n",
            "RangeIndex: 8523 entries, 0 to 8522\n",
            "Data columns (total 12 columns):\n",
            " #   Column                     Non-Null Count  Dtype  \n",
            "---  ------                     --------------  -----  \n",
            " 0   Item_Identifier            8523 non-null   object \n",
            " 1   Item_Weight                8523 non-null   float64\n",
            " 2   Item_Fat_Content           8523 non-null   object \n",
            " 3   Item_Visibility            8523 non-null   float64\n",
            " 4   Item_Type                  8523 non-null   object \n",
            " 5   Item_MRP                   8523 non-null   float64\n",
            " 6   Outlet_Identifier          8523 non-null   object \n",
            " 7   Outlet_Establishment_Year  8523 non-null   int64  \n",
            " 8   Outlet_Size                6113 non-null   object \n",
            " 9   Outlet_Location_Type       8523 non-null   object \n",
            " 10  Outlet_Type                8523 non-null   object \n",
            " 11  Item_Outlet_Sales          8523 non-null   float64\n",
            "dtypes: float64(4), int64(1), object(7)\n",
            "memory usage: 799.2+ KB\n"
          ]
        }
      ]
    },
    {
      "cell_type": "markdown",
      "source": [
        "###Insight 1:"
      ],
      "metadata": {
        "id": "4PjMFKIvWAlI"
      },
      "id": "4PjMFKIvWAlI"
    },
    {
      "cell_type": "code",
      "source": [
        "print(df[\"Outlet_Identifier\"].unique())\n",
        "df[\"Outlet_Identifier\"].nunique()"
      ],
      "metadata": {
        "colab": {
          "base_uri": "https://localhost:8080/"
        },
        "id": "kkUsPHcbWlks",
        "outputId": "5290e51e-14d1-4e47-c180-5b72b12fb7e1"
      },
      "id": "kkUsPHcbWlks",
      "execution_count": 12,
      "outputs": [
        {
          "output_type": "stream",
          "name": "stdout",
          "text": [
            "['OUT049' 'OUT018' 'OUT010' 'OUT013' 'OUT027' 'OUT045' 'OUT017' 'OUT046'\n",
            " 'OUT035' 'OUT019']\n"
          ]
        },
        {
          "output_type": "execute_result",
          "data": {
            "text/plain": [
              "10"
            ]
          },
          "metadata": {},
          "execution_count": 12
        }
      ]
    },
    {
      "cell_type": "code",
      "source": [
        "highest_selling_outlet = df.groupby(\"Outlet_Identifier\")[\"Item_Outlet_Sales\"].sum().sort_values(ascending = False)"
      ],
      "metadata": {
        "id": "R2h2KyY0UZm4"
      },
      "id": "R2h2KyY0UZm4",
      "execution_count": 13,
      "outputs": []
    },
    {
      "cell_type": "code",
      "source": [
        "plt.barh(highest_selling_outlet.index, highest_selling_outlet.values)"
      ],
      "metadata": {
        "colab": {
          "base_uri": "https://localhost:8080/",
          "height": 352
        },
        "id": "yOvSKuSpWYWJ",
        "outputId": "b2794c4d-3900-4456-cc6e-fb30d482a11a"
      },
      "id": "yOvSKuSpWYWJ",
      "execution_count": 14,
      "outputs": [
        {
          "output_type": "execute_result",
          "data": {
            "text/plain": [
              "<BarContainer object of 10 artists>"
            ]
          },
          "metadata": {},
          "execution_count": 14
        },
        {
          "output_type": "display_data",
          "data": {
            "text/plain": [
              "<Figure size 576x360 with 1 Axes>"
            ],
            "image/png": "[encoded data removed]"
          },
          "metadata": {}
        }
      ]
    },
    {
      "cell_type": "markdown",
      "source": [
        "###Insight 2:"
      ],
      "metadata": {
        "id": "AivuS8ljZV3v"
      },
      "id": "AivuS8ljZV3v"
    },
    {
      "cell_type": "code",
      "source": [
        "hold = df[~((df[\"Outlet_Identifier\"] == \"OUT010\") | (df[\"Outlet_Identifier\"] == \"OUT019\"))].copy()"
      ],
      "metadata": {
        "id": "KvKRExwBXKDt"
      },
      "id": "KvKRExwBXKDt",
      "execution_count": 15,
      "outputs": []
    },
    {
      "cell_type": "code",
      "source": [
        "hold[hold[\"Outlet_Identifier\"] == \"OUT027\"][\"Outlet_Type\"].value_counts()"
      ],
      "metadata": {
        "colab": {
          "base_uri": "https://localhost:8080/"
        },
        "id": "gcmtAg5zZ8La",
        "outputId": "8dd11c6b-0b3f-401a-9291-b5d3db359a57"
      },
      "id": "gcmtAg5zZ8La",
      "execution_count": 16,
      "outputs": [
        {
          "output_type": "execute_result",
          "data": {
            "text/plain": [
              "Supermarket Type3    935\n",
              "Name: Outlet_Type, dtype: int64"
            ]
          },
          "metadata": {},
          "execution_count": 16
        }
      ]
    },
    {
      "cell_type": "markdown",
      "source": [
        "####We can see that the highest selling outlet is a Supermarket Type3."
      ],
      "metadata": {
        "id": "BFJ_QigCaWP6"
      },
      "id": "BFJ_QigCaWP6"
    },
    {
      "cell_type": "code",
      "source": [
        "hold[~(hold[\"Outlet_Identifier\"] == \"OUT027\")][\"Outlet_Type\"].value_counts()"
      ],
      "metadata": {
        "colab": {
          "base_uri": "https://localhost:8080/"
        },
        "id": "gOdh-0-QaLiC",
        "outputId": "0ca6061f-e817-4095-d59c-ce29d1846750"
      },
      "id": "gOdh-0-QaLiC",
      "execution_count": 17,
      "outputs": [
        {
          "output_type": "execute_result",
          "data": {
            "text/plain": [
              "Supermarket Type1    5577\n",
              "Supermarket Type2     928\n",
              "Name: Outlet_Type, dtype: int64"
            ]
          },
          "metadata": {},
          "execution_count": 17
        }
      ]
    },
    {
      "cell_type": "markdown",
      "source": [
        "####We can see that all the other are of type 1 and 2. Therefore, type 3 sells more."
      ],
      "metadata": {
        "id": "KpS5mEMoamCB"
      },
      "id": "KpS5mEMoamCB"
    },
    {
      "cell_type": "code",
      "source": [
        "hold.groupby(\"Outlet_Type\")[\"Item_Outlet_Sales\"].mean()"
      ],
      "metadata": {
        "colab": {
          "base_uri": "https://localhost:8080/"
        },
        "id": "zdgj9X82ahgG",
        "outputId": "32ad7973-0f51-4da9-809a-1857b50f0017"
      },
      "id": "zdgj9X82ahgG",
      "execution_count": 18,
      "outputs": [
        {
          "output_type": "execute_result",
          "data": {
            "text/plain": [
              "Outlet_Type\n",
              "Supermarket Type1    2316.181148\n",
              "Supermarket Type2    1995.498739\n",
              "Supermarket Type3    3694.038558\n",
              "Name: Item_Outlet_Sales, dtype: float64"
            ]
          },
          "metadata": {},
          "execution_count": 18
        }
      ]
    },
    {
      "cell_type": "markdown",
      "source": [
        "####We can also see that type 1 is better at sales than type 2."
      ],
      "metadata": {
        "id": "KNP5eP8sbMDl"
      },
      "id": "KNP5eP8sbMDl"
    },
    {
      "cell_type": "markdown",
      "source": [
        "###Insight 3:"
      ],
      "metadata": {
        "id": "qKJR9n1f-jdY"
      },
      "id": "qKJR9n1f-jdY"
    },
    {
      "cell_type": "code",
      "source": [
        "df.groupby(\"Outlet_Location_Type\")[\"Item_Outlet_Sales\"].mean()"
      ],
      "metadata": {
        "id": "KjbAALNZbHiD",
        "colab": {
          "base_uri": "https://localhost:8080/"
        },
        "outputId": "419e57cc-4b5d-403d-d975-3d20128a6c17"
      },
      "id": "KjbAALNZbHiD",
      "execution_count": 20,
      "outputs": [
        {
          "output_type": "execute_result",
          "data": {
            "text/plain": [
              "Outlet_Location_Type\n",
              "Tier 1    1876.909159\n",
              "Tier 2    2323.990559\n",
              "Tier 3    2279.627651\n",
              "Name: Item_Outlet_Sales, dtype: float64"
            ]
          },
          "metadata": {},
          "execution_count": 20
        }
      ]
    },
    {
      "cell_type": "markdown",
      "source": [
        "####Insight 4:"
      ],
      "metadata": {
        "id": "MCgOAQlfTNDV"
      },
      "id": "MCgOAQlfTNDV"
    },
    {
      "cell_type": "code",
      "source": [
        "df.groupby(\"Item_Type\")[\"Item_Outlet_Sales\"].sum().sort_values(ascending = False).plot(kind = \"barh\")"
      ],
      "metadata": {
        "colab": {
          "base_uri": "https://localhost:8080/",
          "height": 352
        },
        "id": "-naW8914SC4Q",
        "outputId": "f9a1ead9-4ee6-4eb4-b5f0-055b99f09799"
      },
      "id": "-naW8914SC4Q",
      "execution_count": 24,
      "outputs": [
        {
          "output_type": "execute_result",
          "data": {
            "text/plain": [
              "<matplotlib.axes._subplots.AxesSubplot at 0x7fe471211250>"
            ]
          },
          "metadata": {},
          "execution_count": 24
        },
        {
          "output_type": "display_data",
          "data": {
            "text/plain": [
              "<Figure size 576x360 with 1 Axes>"
            ],
            "image/png": "[encoded data removed]"
          },
          "metadata": {}
        }
      ]
    },
    {
      "cell_type": "markdown",
      "source": [
        "####We can also check what is the item that produced the most amount of money in each outlet"
      ],
      "metadata": {
        "id": "v8peSyTKUoMq"
      },
      "id": "v8peSyTKUoMq"
    },
    {
      "cell_type": "code",
      "source": [
        "df.groupby([\"Outlet_Identifier\",\"Item_Type\"])[\"Item_Outlet_Sales\"].sum()"
      ],
      "metadata": {
        "colab": {
          "base_uri": "https://localhost:8080/"
        },
        "id": "EzE6q8DUT5Wx",
        "outputId": "88a2fdc5-8e34-43bd-e370-0c29f8067539"
      },
      "id": "EzE6q8DUT5Wx",
      "execution_count": 27,
      "outputs": [
        {
          "output_type": "execute_result",
          "data": {
            "text/plain": [
              "Outlet_Identifier  Item_Type    \n",
              "OUT010             Baking Goods      10693.4138\n",
              "                   Breads             7657.3658\n",
              "                   Breakfast          4081.3540\n",
              "                   Canned             9019.5926\n",
              "                   Dairy             15307.4078\n",
              "                                       ...     \n",
              "OUT049             Others            47772.4816\n",
              "                   Seafood           11827.2712\n",
              "                   Snack Foods      350244.0900\n",
              "                   Soft Drinks       97585.6402\n",
              "                   Starchy Foods     42019.9696\n",
              "Name: Item_Outlet_Sales, Length: 160, dtype: float64"
            ]
          },
          "metadata": {},
          "execution_count": 27
        }
      ]
    },
    {
      "cell_type": "code",
      "source": [
        "#To see the whole result when using multiindexed groupby, use unstack()\n",
        "df.groupby([\"Outlet_Identifier\",\"Item_Type\"])[\"Item_Outlet_Sales\"].sum().unstack().T"
      ],
      "metadata": {
        "colab": {
          "base_uri": "https://localhost:8080/",
          "height": 626
        },
        "id": "BI_B3BUJVrGS",
        "outputId": "a0cf1d06-d5c1-4699-d79d-7fb15e504be8"
      },
      "id": "BI_B3BUJVrGS",
      "execution_count": 29,
      "outputs": [
        {
          "output_type": "execute_result",
          "data": {
            "text/plain": [
              "Outlet_Identifier          OUT010       OUT013       OUT017       OUT018  \\\n",
              "Item_Type                                                                  \n",
              "Baking Goods           10693.4138  149715.7828  147731.0330  121065.0772   \n",
              "Breads                  7657.3658   52018.2882   49008.8722   54604.9212   \n",
              "Breakfast               4081.3540   27355.7246   24436.1916   22496.0504   \n",
              "Canned                  9019.5926  143732.2382  175853.0934  145681.7006   \n",
              "Dairy                  15307.4078  196254.5370  185955.2768  152130.6394   \n",
              "Frozen Foods           17942.6442  203696.8494  239347.1104  183599.0106   \n",
              "Fruits and Vegetables  24548.0460  341526.7706  319504.1040  263471.7076   \n",
              "Hard Drinks             4067.3722   54362.5700   55432.5106   49445.6370   \n",
              "Health and Hygiene     13570.3356  119135.5888  124751.6118  108845.6498   \n",
              "Household              25550.0750  248046.4532  222526.3392  196267.1872   \n",
              "Meat                   13580.9884   95200.0788   96822.6334   94655.4544   \n",
              "Others                  3256.4278   35238.1308   37388.6648   37072.4098   \n",
              "Seafood                  947.4334    8146.7288   10032.9402   22166.4794   \n",
              "Snack Foods            25942.8970  309246.1234  311071.0812  278714.5328   \n",
              "Soft Drinks             9441.0440  115234.6666  123710.3006   88495.4728   \n",
              "Starchy Foods           2733.7748   43753.0470   43893.5308   33110.8998   \n",
              "\n",
              "Outlet_Identifier          OUT019       OUT027       OUT035       OUT045  \\\n",
              "Item_Type                                                                  \n",
              "Baking Goods           14133.6024  224172.1968  135005.5976  150368.9326   \n",
              "Breads                  4947.5598  110518.8052   76456.4772   65663.8592   \n",
              "Breakfast               3762.4358   50432.3526   31117.4946   21802.9526   \n",
              "Canned                 16739.5436  272150.4106  195444.2584  174307.7716   \n",
              "Dairy                  16144.3184  262317.2104  185067.7654  154650.0266   \n",
              "Frozen Foods           15252.8122  316272.3108  213487.4384  177020.2408   \n",
              "Fruits and Vegetables  24054.0224  576028.1886  304647.4428  326414.4422   \n",
              "Hard Drinks             1768.3648   78957.8878   49941.6580   56274.0818   \n",
              "Health and Hygiene     10945.0862  199084.1870  118230.7666  104603.1722   \n",
              "Household              18157.0318  378299.5704  269852.7348  222456.4302   \n",
              "Meat                   11995.7186  216288.4590  107193.8000   81606.4402   \n",
              "Others                  4522.1136   40513.9300   38047.8068   40165.0508   \n",
              "Seafood                 1336.9264   18809.5158   23358.9272   25927.5836   \n",
              "Snack Foods            25653.2740  513088.1172  355573.8190  288438.5418   \n",
              "Soft Drinks             9113.4704  147822.2476  106751.0430  108679.1998   \n",
              "Starchy Foods           1167.8132   49170.6616   57945.9056   38346.7510   \n",
              "\n",
              "Outlet_Identifier           OUT046       OUT049  \n",
              "Item_Type                                        \n",
              "Baking Goods           173376.3174  139263.3886  \n",
              "Breads                  71870.4468   60490.5932  \n",
              "Breakfast               16599.7256   30214.6698  \n",
              "Canned                 173084.6970  138138.1866  \n",
              "Dairy                  175086.0918  179680.7776  \n",
              "Frozen Foods           243236.7140  215879.6578  \n",
              "Fruits and Vegetables  304751.3076  335113.7850  \n",
              "Hard Drinks             44615.9238   62927.4212  \n",
              "Health and Hygiene     133189.2952  112844.4446  \n",
              "Household              219520.2522  254817.6392  \n",
              "Meat                    95072.2452  105149.7940  \n",
              "Others                  41540.5936   47772.4816  \n",
              "Seafood                 26314.4134   11827.2712  \n",
              "Snack Foods            274813.6106  350244.0900  \n",
              "Soft Drinks             86064.6370   97585.6402  \n",
              "Starchy Foods           39258.8970   42019.9696  "
            ],
            "text/html": [
              "\n",
              "  <div id=\"df-2036a699-766e-4c74-8f25-bc05d67cbab6\">\n",
              "    <div class=\"colab-df-container\">\n",
              "      <div>\n",
              "<style scoped>\n",
              "    .dataframe tbody tr th:only-of-type {\n",
              "        vertical-align: middle;\n",
              "    }\n",
              "\n",
              "    .dataframe tbody tr th {\n",
              "        vertical-align: top;\n",
              "    }\n",
              "\n",
              "    .dataframe thead th {\n",
              "        text-align: right;\n",
              "    }\n",
              "</style>\n",
              "<table border=\"1\" class=\"dataframe\">\n",
              "  <thead>\n",
              "    <tr style=\"text-align: right;\">\n",
              "      <th>Outlet_Identifier</th>\n",
              "      <th>OUT010</th>\n",
              "      <th>OUT013</th>\n",
              "      <th>OUT017</th>\n",
              "      <th>OUT018</th>\n",
              "      <th>OUT019</th>\n",
              "      <th>OUT027</th>\n",
              "      <th>OUT035</th>\n",
              "      <th>OUT045</th>\n",
              "      <th>OUT046</th>\n",
              "      <th>OUT049</th>\n",
              "    </tr>\n",
              "    <tr>\n",
              "      <th>Item_Type</th>\n",
              "      <th></th>\n",
              "      <th></th>\n",
              "      <th></th>\n",
              "      <th></th>\n",
              "      <th></th>\n",
              "      <th></th>\n",
              "      <th></th>\n",
              "      <th></th>\n",
              "      <th></th>\n",
              "      <th></th>\n",
              "    </tr>\n",
              "  </thead>\n",
              "  <tbody>\n",
              "    <tr>\n",
              "      <th>Baking Goods</th>\n",
              "      <td>10693.4138</td>\n",
              "      <td>149715.7828</td>\n",
              "      <td>147731.0330</td>\n",
              "      <td>121065.0772</td>\n",
              "      <td>14133.6024</td>\n",
              "      <td>224172.1968</td>\n",
              "      <td>135005.5976</td>\n",
              "      <td>150368.9326</td>\n",
              "      <td>173376.3174</td>\n",
              "      <td>139263.3886</td>\n",
              "    </tr>\n",
              "    <tr>\n",
              "      <th>Breads</th>\n",
              "      <td>7657.3658</td>\n",
              "      <td>52018.2882</td>\n",
              "      <td>49008.8722</td>\n",
              "      <td>54604.9212</td>\n",
              "      <td>4947.5598</td>\n",
              "      <td>110518.8052</td>\n",
              "      <td>76456.4772</td>\n",
              "      <td>65663.8592</td>\n",
              "      <td>71870.4468</td>\n",
              "      <td>60490.5932</td>\n",
              "    </tr>\n",
              "    <tr>\n",
              "      <th>Breakfast</th>\n",
              "      <td>4081.3540</td>\n",
              "      <td>27355.7246</td>\n",
              "      <td>24436.1916</td>\n",
              "      <td>22496.0504</td>\n",
              "      <td>3762.4358</td>\n",
              "      <td>50432.3526</td>\n",
              "      <td>31117.4946</td>\n",
              "      <td>21802.9526</td>\n",
              "      <td>16599.7256</td>\n",
              "      <td>30214.6698</td>\n",
              "    </tr>\n",
              "    <tr>\n",
              "      <th>Canned</th>\n",
              "      <td>9019.5926</td>\n",
              "      <td>143732.2382</td>\n",
              "      <td>175853.0934</td>\n",
              "      <td>145681.7006</td>\n",
              "      <td>16739.5436</td>\n",
              "      <td>272150.4106</td>\n",
              "      <td>195444.2584</td>\n",
              "      <td>174307.7716</td>\n",
              "      <td>173084.6970</td>\n",
              "      <td>138138.1866</td>\n",
              "    </tr>\n",
              "    <tr>\n",
              "      <th>Dairy</th>\n",
              "      <td>15307.4078</td>\n",
              "      <td>196254.5370</td>\n",
              "      <td>185955.2768</td>\n",
              "      <td>152130.6394</td>\n",
              "      <td>16144.3184</td>\n",
              "      <td>262317.2104</td>\n",
              "      <td>185067.7654</td>\n",
              "      <td>154650.0266</td>\n",
              "      <td>175086.0918</td>\n",
              "      <td>179680.7776</td>\n",
              "    </tr>\n",
              "    <tr>\n",
              "      <th>Frozen Foods</th>\n",
              "      <td>17942.6442</td>\n",
              "      <td>203696.8494</td>\n",
              "      <td>239347.1104</td>\n",
              "      <td>183599.0106</td>\n",
              "      <td>15252.8122</td>\n",
              "      <td>316272.3108</td>\n",
              "      <td>213487.4384</td>\n",
              "      <td>177020.2408</td>\n",
              "      <td>243236.7140</td>\n",
              "      <td>215879.6578</td>\n",
              "    </tr>\n",
              "    <tr>\n",
              "      <th>Fruits and Vegetables</th>\n",
              "      <td>24548.0460</td>\n",
              "      <td>341526.7706</td>\n",
              "      <td>319504.1040</td>\n",
              "      <td>263471.7076</td>\n",
              "      <td>24054.0224</td>\n",
              "      <td>576028.1886</td>\n",
              "      <td>304647.4428</td>\n",
              "      <td>326414.4422</td>\n",
              "      <td>304751.3076</td>\n",
              "      <td>335113.7850</td>\n",
              "    </tr>\n",
              "    <tr>\n",
              "      <th>Hard Drinks</th>\n",
              "      <td>4067.3722</td>\n",
              "      <td>54362.5700</td>\n",
              "      <td>55432.5106</td>\n",
              "      <td>49445.6370</td>\n",
              "      <td>1768.3648</td>\n",
              "      <td>78957.8878</td>\n",
              "      <td>49941.6580</td>\n",
              "      <td>56274.0818</td>\n",
              "      <td>44615.9238</td>\n",
              "      <td>62927.4212</td>\n",
              "    </tr>\n",
              "    <tr>\n",
              "      <th>Health and Hygiene</th>\n",
              "      <td>13570.3356</td>\n",
              "      <td>119135.5888</td>\n",
              "      <td>124751.6118</td>\n",
              "      <td>108845.6498</td>\n",
              "      <td>10945.0862</td>\n",
              "      <td>199084.1870</td>\n",
              "      <td>118230.7666</td>\n",
              "      <td>104603.1722</td>\n",
              "      <td>133189.2952</td>\n",
              "      <td>112844.4446</td>\n",
              "    </tr>\n",
              "    <tr>\n",
              "      <th>Household</th>\n",
              "      <td>25550.0750</td>\n",
              "      <td>248046.4532</td>\n",
              "      <td>222526.3392</td>\n",
              "      <td>196267.1872</td>\n",
              "      <td>18157.0318</td>\n",
              "      <td>378299.5704</td>\n",
              "      <td>269852.7348</td>\n",
              "      <td>222456.4302</td>\n",
              "      <td>219520.2522</td>\n",
              "      <td>254817.6392</td>\n",
              "    </tr>\n",
              "    <tr>\n",
              "      <th>Meat</th>\n",
              "      <td>13580.9884</td>\n",
              "      <td>95200.0788</td>\n",
              "      <td>96822.6334</td>\n",
              "      <td>94655.4544</td>\n",
              "      <td>11995.7186</td>\n",
              "      <td>216288.4590</td>\n",
              "      <td>107193.8000</td>\n",
              "      <td>81606.4402</td>\n",
              "      <td>95072.2452</td>\n",
              "      <td>105149.7940</td>\n",
              "    </tr>\n",
              "    <tr>\n",
              "      <th>Others</th>\n",
              "      <td>3256.4278</td>\n",
              "      <td>35238.1308</td>\n",
              "      <td>37388.6648</td>\n",
              "      <td>37072.4098</td>\n",
              "      <td>4522.1136</td>\n",
              "      <td>40513.9300</td>\n",
              "      <td>38047.8068</td>\n",
              "      <td>40165.0508</td>\n",
              "      <td>41540.5936</td>\n",
              "      <td>47772.4816</td>\n",
              "    </tr>\n",
              "    <tr>\n",
              "      <th>Seafood</th>\n",
              "      <td>947.4334</td>\n",
              "      <td>8146.7288</td>\n",
              "      <td>10032.9402</td>\n",
              "      <td>22166.4794</td>\n",
              "      <td>1336.9264</td>\n",
              "      <td>18809.5158</td>\n",
              "      <td>23358.9272</td>\n",
              "      <td>25927.5836</td>\n",
              "      <td>26314.4134</td>\n",
              "      <td>11827.2712</td>\n",
              "    </tr>\n",
              "    <tr>\n",
              "      <th>Snack Foods</th>\n",
              "      <td>25942.8970</td>\n",
              "      <td>309246.1234</td>\n",
              "      <td>311071.0812</td>\n",
              "      <td>278714.5328</td>\n",
              "      <td>25653.2740</td>\n",
              "      <td>513088.1172</td>\n",
              "      <td>355573.8190</td>\n",
              "      <td>288438.5418</td>\n",
              "      <td>274813.6106</td>\n",
              "      <td>350244.0900</td>\n",
              "    </tr>\n",
              "    <tr>\n",
              "      <th>Soft Drinks</th>\n",
              "      <td>9441.0440</td>\n",
              "      <td>115234.6666</td>\n",
              "      <td>123710.3006</td>\n",
              "      <td>88495.4728</td>\n",
              "      <td>9113.4704</td>\n",
              "      <td>147822.2476</td>\n",
              "      <td>106751.0430</td>\n",
              "      <td>108679.1998</td>\n",
              "      <td>86064.6370</td>\n",
              "      <td>97585.6402</td>\n",
              "    </tr>\n",
              "    <tr>\n",
              "      <th>Starchy Foods</th>\n",
              "      <td>2733.7748</td>\n",
              "      <td>43753.0470</td>\n",
              "      <td>43893.5308</td>\n",
              "      <td>33110.8998</td>\n",
              "      <td>1167.8132</td>\n",
              "      <td>49170.6616</td>\n",
              "      <td>57945.9056</td>\n",
              "      <td>38346.7510</td>\n",
              "      <td>39258.8970</td>\n",
              "      <td>42019.9696</td>\n",
              "    </tr>\n",
              "  </tbody>\n",
              "</table>\n",
              "</div>\n",
              "      <button class=\"colab-df-convert\" onclick=\"convertToInteractive('df-2036a699-766e-4c74-8f25-bc05d67cbab6')\"\n",
              "              title=\"Convert this dataframe to an interactive table.\"\n",
              "              style=\"display:none;\">\n",
              "        \n",
              "  <svg xmlns=\"http://www.w3.org/2000/svg\" height=\"24px\"viewBox=\"0 0 24 24\"\n",
              "       width=\"24px\">\n",
              "    <path d=\"M0 0h24v24H0V0z\" fill=\"none\"/>\n",
              "    <path d=\"M18.56 5.44l.94 2.06.94-2.06 2.06-.94-2.06-.94-.94-2.06-.94 2.06-2.06.94zm-11 1L8.5 8.5l.94-2.06 2.06-.94-2.06-.94L8.5 2.5l-.94 2.06-2.06.94zm10 10l.94 2.06.94-2.06 2.06-.94-2.06-.94-.94-2.06-.94 2.06-2.06.94z\"/><path d=\"M17.41 7.96l-1.37-1.37c-.4-.4-.92-.59-1.43-.59-.52 0-1.04.2-1.43.59L10.3 9.45l-7.72 7.72c-.78.78-.78 2.05 0 2.83L4 21.41c.39.39.9.59 1.41.59.51 0 1.02-.2 1.41-.59l7.78-7.78 2.81-2.81c.8-.78.8-2.07 0-2.86zM5.41 20L4 18.59l7.72-7.72 1.47 1.35L5.41 20z\"/>\n",
              "  </svg>\n",
              "      </button>\n",
              "      \n",
              "  <style>\n",
              "    .colab-df-container {\n",
              "      display:flex;\n",
              "      flex-wrap:wrap;\n",
              "      gap: 12px;\n",
              "    }\n",
              "\n",
              "    .colab-df-convert {\n",
              "      background-color: #E8F0FE;\n",
              "      border: none;\n",
              "      border-radius: 50%;\n",
              "      cursor: pointer;\n",
              "      display: none;\n",
              "      fill: #1967D2;\n",
              "      height: 32px;\n",
              "      padding: 0 0 0 0;\n",
              "      width: 32px;\n",
              "    }\n",
              "\n",
              "    .colab-df-convert:hover {\n",
              "      background-color: #E2EBFA;\n",
              "      box-shadow: 0px 1px 2px rgba(60, 64, 67, 0.3), 0px 1px 3px 1px rgba(60, 64, 67, 0.15);\n",
              "      fill: #174EA6;\n",
              "    }\n",
              "\n",
              "    [theme=dark] .colab-df-convert {\n",
              "      background-color: #3B4455;\n",
              "      fill: #D2E3FC;\n",
              "    }\n",
              "\n",
              "    [theme=dark] .colab-df-convert:hover {\n",
              "      background-color: #434B5C;\n",
              "      box-shadow: 0px 1px 3px 1px rgba(0, 0, 0, 0.15);\n",
              "      filter: drop-shadow(0px 1px 2px rgba(0, 0, 0, 0.3));\n",
              "      fill: #FFFFFF;\n",
              "    }\n",
              "  </style>\n",
              "\n",
              "      <script>\n",
              "        const buttonEl =\n",
              "          document.querySelector('#df-2036a699-766e-4c74-8f25-bc05d67cbab6 button.colab-df-convert');\n",
              "        buttonEl.style.display =\n",
              "          google.colab.kernel.accessAllowed ? 'block' : 'none';\n",
              "\n",
              "        async function convertToInteractive(key) {\n",
              "          const element = document.querySelector('#df-2036a699-766e-4c74-8f25-bc05d67cbab6');\n",
              "          const dataTable =\n",
              "            await google.colab.kernel.invokeFunction('convertToInteractive',\n",
              "                                                     [key], {});\n",
              "          if (!dataTable) return;\n",
              "\n",
              "          const docLinkHtml = 'Like what you see? Visit the ' +\n",
              "            '<a target=\"_blank\" href=https://colab.research.google.com/notebooks/data_table.ipynb>data table notebook</a>'\n",
              "            + ' to learn more about interactive tables.';\n",
              "          element.innerHTML = '';\n",
              "          dataTable['output_type'] = 'display_data';\n",
              "          await google.colab.output.renderOutput(dataTable, element);\n",
              "          const docLink = document.createElement('div');\n",
              "          docLink.innerHTML = docLinkHtml;\n",
              "          element.appendChild(docLink);\n",
              "        }\n",
              "      </script>\n",
              "    </div>\n",
              "  </div>\n",
              "  "
            ]
          },
          "metadata": {},
          "execution_count": 29
        }
      ]
    },
    {
      "cell_type": "code",
      "source": [
        "hold_2 = df.groupby([\"Outlet_Identifier\",\"Item_Type\"])[\"Item_Outlet_Sales\"].sum().unstack().T.copy()"
      ],
      "metadata": {
        "id": "hg_Ge4mzV5G2"
      },
      "id": "hg_Ge4mzV5G2",
      "execution_count": 30,
      "outputs": []
    },
    {
      "cell_type": "code",
      "source": [
        "hold_2.head()"
      ],
      "metadata": {
        "colab": {
          "base_uri": "https://localhost:8080/",
          "height": 281
        },
        "id": "wbkotRkOWC2f",
        "outputId": "5e23aec0-27b7-44b3-d3e1-c082270bfce1"
      },
      "id": "wbkotRkOWC2f",
      "execution_count": 31,
      "outputs": [
        {
          "output_type": "execute_result",
          "data": {
            "text/plain": [
              "Outlet_Identifier      OUT010       OUT013       OUT017       OUT018  \\\n",
              "Item_Type                                                              \n",
              "Baking Goods       10693.4138  149715.7828  147731.0330  121065.0772   \n",
              "Breads              7657.3658   52018.2882   49008.8722   54604.9212   \n",
              "Breakfast           4081.3540   27355.7246   24436.1916   22496.0504   \n",
              "Canned              9019.5926  143732.2382  175853.0934  145681.7006   \n",
              "Dairy              15307.4078  196254.5370  185955.2768  152130.6394   \n",
              "\n",
              "Outlet_Identifier      OUT019       OUT027       OUT035       OUT045  \\\n",
              "Item_Type                                                              \n",
              "Baking Goods       14133.6024  224172.1968  135005.5976  150368.9326   \n",
              "Breads              4947.5598  110518.8052   76456.4772   65663.8592   \n",
              "Breakfast           3762.4358   50432.3526   31117.4946   21802.9526   \n",
              "Canned             16739.5436  272150.4106  195444.2584  174307.7716   \n",
              "Dairy              16144.3184  262317.2104  185067.7654  154650.0266   \n",
              "\n",
              "Outlet_Identifier       OUT046       OUT049  \n",
              "Item_Type                                    \n",
              "Baking Goods       173376.3174  139263.3886  \n",
              "Breads              71870.4468   60490.5932  \n",
              "Breakfast           16599.7256   30214.6698  \n",
              "Canned             173084.6970  138138.1866  \n",
              "Dairy              175086.0918  179680.7776  "
            ],
            "text/html": [
              "\n",
              "  <div id=\"df-610bad31-6a49-4dae-8a17-ea22afa3ac50\">\n",
              "    <div class=\"colab-df-container\">\n",
              "      <div>\n",
              "<style scoped>\n",
              "    .dataframe tbody tr th:only-of-type {\n",
              "        vertical-align: middle;\n",
              "    }\n",
              "\n",
              "    .dataframe tbody tr th {\n",
              "        vertical-align: top;\n",
              "    }\n",
              "\n",
              "    .dataframe thead th {\n",
              "        text-align: right;\n",
              "    }\n",
              "</style>\n",
              "<table border=\"1\" class=\"dataframe\">\n",
              "  <thead>\n",
              "    <tr style=\"text-align: right;\">\n",
              "      <th>Outlet_Identifier</th>\n",
              "      <th>OUT010</th>\n",
              "      <th>OUT013</th>\n",
              "      <th>OUT017</th>\n",
              "      <th>OUT018</th>\n",
              "      <th>OUT019</th>\n",
              "      <th>OUT027</th>\n",
              "      <th>OUT035</th>\n",
              "      <th>OUT045</th>\n",
              "      <th>OUT046</th>\n",
              "      <th>OUT049</th>\n",
              "    </tr>\n",
              "    <tr>\n",
              "      <th>Item_Type</th>\n",
              "      <th></th>\n",
              "      <th></th>\n",
              "      <th></th>\n",
              "      <th></th>\n",
              "      <th></th>\n",
              "      <th></th>\n",
              "      <th></th>\n",
              "      <th></th>\n",
              "      <th></th>\n",
              "      <th></th>\n",
              "    </tr>\n",
              "  </thead>\n",
              "  <tbody>\n",
              "    <tr>\n",
              "      <th>Baking Goods</th>\n",
              "      <td>10693.4138</td>\n",
              "      <td>149715.7828</td>\n",
              "      <td>147731.0330</td>\n",
              "      <td>121065.0772</td>\n",
              "      <td>14133.6024</td>\n",
              "      <td>224172.1968</td>\n",
              "      <td>135005.5976</td>\n",
              "      <td>150368.9326</td>\n",
              "      <td>173376.3174</td>\n",
              "      <td>139263.3886</td>\n",
              "    </tr>\n",
              "    <tr>\n",
              "      <th>Breads</th>\n",
              "      <td>7657.3658</td>\n",
              "      <td>52018.2882</td>\n",
              "      <td>49008.8722</td>\n",
              "      <td>54604.9212</td>\n",
              "      <td>4947.5598</td>\n",
              "      <td>110518.8052</td>\n",
              "      <td>76456.4772</td>\n",
              "      <td>65663.8592</td>\n",
              "      <td>71870.4468</td>\n",
              "      <td>60490.5932</td>\n",
              "    </tr>\n",
              "    <tr>\n",
              "      <th>Breakfast</th>\n",
              "      <td>4081.3540</td>\n",
              "      <td>27355.7246</td>\n",
              "      <td>24436.1916</td>\n",
              "      <td>22496.0504</td>\n",
              "      <td>3762.4358</td>\n",
              "      <td>50432.3526</td>\n",
              "      <td>31117.4946</td>\n",
              "      <td>21802.9526</td>\n",
              "      <td>16599.7256</td>\n",
              "      <td>30214.6698</td>\n",
              "    </tr>\n",
              "    <tr>\n",
              "      <th>Canned</th>\n",
              "      <td>9019.5926</td>\n",
              "      <td>143732.2382</td>\n",
              "      <td>175853.0934</td>\n",
              "      <td>145681.7006</td>\n",
              "      <td>16739.5436</td>\n",
              "      <td>272150.4106</td>\n",
              "      <td>195444.2584</td>\n",
              "      <td>174307.7716</td>\n",
              "      <td>173084.6970</td>\n",
              "      <td>138138.1866</td>\n",
              "    </tr>\n",
              "    <tr>\n",
              "      <th>Dairy</th>\n",
              "      <td>15307.4078</td>\n",
              "      <td>196254.5370</td>\n",
              "      <td>185955.2768</td>\n",
              "      <td>152130.6394</td>\n",
              "      <td>16144.3184</td>\n",
              "      <td>262317.2104</td>\n",
              "      <td>185067.7654</td>\n",
              "      <td>154650.0266</td>\n",
              "      <td>175086.0918</td>\n",
              "      <td>179680.7776</td>\n",
              "    </tr>\n",
              "  </tbody>\n",
              "</table>\n",
              "</div>\n",
              "      <button class=\"colab-df-convert\" onclick=\"convertToInteractive('df-610bad31-6a49-4dae-8a17-ea22afa3ac50')\"\n",
              "              title=\"Convert this dataframe to an interactive table.\"\n",
              "              style=\"display:none;\">\n",
              "        \n",
              "  <svg xmlns=\"http://www.w3.org/2000/svg\" height=\"24px\"viewBox=\"0 0 24 24\"\n",
              "       width=\"24px\">\n",
              "    <path d=\"M0 0h24v24H0V0z\" fill=\"none\"/>\n",
              "    <path d=\"M18.56 5.44l.94 2.06.94-2.06 2.06-.94-2.06-.94-.94-2.06-.94 2.06-2.06.94zm-11 1L8.5 8.5l.94-2.06 2.06-.94-2.06-.94L8.5 2.5l-.94 2.06-2.06.94zm10 10l.94 2.06.94-2.06 2.06-.94-2.06-.94-.94-2.06-.94 2.06-2.06.94z\"/><path d=\"M17.41 7.96l-1.37-1.37c-.4-.4-.92-.59-1.43-.59-.52 0-1.04.2-1.43.59L10.3 9.45l-7.72 7.72c-.78.78-.78 2.05 0 2.83L4 21.41c.39.39.9.59 1.41.59.51 0 1.02-.2 1.41-.59l7.78-7.78 2.81-2.81c.8-.78.8-2.07 0-2.86zM5.41 20L4 18.59l7.72-7.72 1.47 1.35L5.41 20z\"/>\n",
              "  </svg>\n",
              "      </button>\n",
              "      \n",
              "  <style>\n",
              "    .colab-df-container {\n",
              "      display:flex;\n",
              "      flex-wrap:wrap;\n",
              "      gap: 12px;\n",
              "    }\n",
              "\n",
              "    .colab-df-convert {\n",
              "      background-color: #E8F0FE;\n",
              "      border: none;\n",
              "      border-radius: 50%;\n",
              "      cursor: pointer;\n",
              "      display: none;\n",
              "      fill: #1967D2;\n",
              "      height: 32px;\n",
              "      padding: 0 0 0 0;\n",
              "      width: 32px;\n",
              "    }\n",
              "\n",
              "    .colab-df-convert:hover {\n",
              "      background-color: #E2EBFA;\n",
              "      box-shadow: 0px 1px 2px rgba(60, 64, 67, 0.3), 0px 1px 3px 1px rgba(60, 64, 67, 0.15);\n",
              "      fill: #174EA6;\n",
              "    }\n",
              "\n",
              "    [theme=dark] .colab-df-convert {\n",
              "      background-color: #3B4455;\n",
              "      fill: #D2E3FC;\n",
              "    }\n",
              "\n",
              "    [theme=dark] .colab-df-convert:hover {\n",
              "      background-color: #434B5C;\n",
              "      box-shadow: 0px 1px 3px 1px rgba(0, 0, 0, 0.15);\n",
              "      filter: drop-shadow(0px 1px 2px rgba(0, 0, 0, 0.3));\n",
              "      fill: #FFFFFF;\n",
              "    }\n",
              "  </style>\n",
              "\n",
              "      <script>\n",
              "        const buttonEl =\n",
              "          document.querySelector('#df-610bad31-6a49-4dae-8a17-ea22afa3ac50 button.colab-df-convert');\n",
              "        buttonEl.style.display =\n",
              "          google.colab.kernel.accessAllowed ? 'block' : 'none';\n",
              "\n",
              "        async function convertToInteractive(key) {\n",
              "          const element = document.querySelector('#df-610bad31-6a49-4dae-8a17-ea22afa3ac50');\n",
              "          const dataTable =\n",
              "            await google.colab.kernel.invokeFunction('convertToInteractive',\n",
              "                                                     [key], {});\n",
              "          if (!dataTable) return;\n",
              "\n",
              "          const docLinkHtml = 'Like what you see? Visit the ' +\n",
              "            '<a target=\"_blank\" href=https://colab.research.google.com/notebooks/data_table.ipynb>data table notebook</a>'\n",
              "            + ' to learn more about interactive tables.';\n",
              "          element.innerHTML = '';\n",
              "          dataTable['output_type'] = 'display_data';\n",
              "          await google.colab.output.renderOutput(dataTable, element);\n",
              "          const docLink = document.createElement('div');\n",
              "          docLink.innerHTML = docLinkHtml;\n",
              "          element.appendChild(docLink);\n",
              "        }\n",
              "      </script>\n",
              "    </div>\n",
              "  </div>\n",
              "  "
            ]
          },
          "metadata": {},
          "execution_count": 31
        }
      ]
    },
    {
      "cell_type": "code",
      "source": [
        "outlet_highest_product = {}\n",
        "for i in hold_2.columns:\n",
        "  x = hold_2[i].sort_values(ascending = False)\n",
        "  outlet_highest_product[i] = (x.index[0],x[0])"
      ],
      "metadata": {
        "id": "M_QtIS9OWFxL"
      },
      "id": "M_QtIS9OWFxL",
      "execution_count": 34,
      "outputs": []
    },
    {
      "cell_type": "code",
      "source": [
        "outlet_highest_product"
      ],
      "metadata": {
        "colab": {
          "base_uri": "https://localhost:8080/"
        },
        "id": "XqYyVNLqXok7",
        "outputId": "98efe08e-0579-4562-fad2-cecb60f4090b"
      },
      "id": "XqYyVNLqXok7",
      "execution_count": 35,
      "outputs": [
        {
          "output_type": "execute_result",
          "data": {
            "text/plain": [
              "{'OUT010': ('Snack Foods', 25942.897),\n",
              " 'OUT013': ('Fruits and Vegetables', 341526.7706),\n",
              " 'OUT017': ('Fruits and Vegetables', 319504.104),\n",
              " 'OUT018': ('Snack Foods', 278714.5328),\n",
              " 'OUT019': ('Snack Foods', 25653.274),\n",
              " 'OUT027': ('Fruits and Vegetables', 576028.1886),\n",
              " 'OUT035': ('Snack Foods', 355573.819),\n",
              " 'OUT045': ('Fruits and Vegetables', 326414.4422),\n",
              " 'OUT046': ('Fruits and Vegetables', 304751.3076),\n",
              " 'OUT049': ('Snack Foods', 350244.09)}"
            ]
          },
          "metadata": {},
          "execution_count": 35
        }
      ]
    },
    {
      "cell_type": "markdown",
      "source": [
        "####Insight 5"
      ],
      "metadata": {
        "id": "Te8uZZgEYKnO"
      },
      "id": "Te8uZZgEYKnO"
    },
    {
      "cell_type": "code",
      "source": [
        "df.groupby(\"Item_Identifier\")[\"Item_Outlet_Sales\"].sum().sort_values(ascending = False)"
      ],
      "metadata": {
        "colab": {
          "base_uri": "https://localhost:8080/"
        },
        "id": "hAOvrNM2YM5X",
        "outputId": "2d2e93ce-5c7b-4168-8914-e1596290189a"
      },
      "id": "hAOvrNM2YM5X",
      "execution_count": 39,
      "outputs": [
        {
          "output_type": "execute_result",
          "data": {
            "text/plain": [
              "Item_Identifier\n",
              "FDY55    42661.8008\n",
              "FDA15    41584.5364\n",
              "FDZ20    40185.0248\n",
              "FDF05    36555.7490\n",
              "FDA04    35741.4756\n",
              "            ...    \n",
              "FDQ04      784.3124\n",
              "FDF38      771.6622\n",
              "FDY43      673.7896\n",
              "NCR42      332.9000\n",
              "FDQ60      120.5098\n",
              "Name: Item_Outlet_Sales, Length: 1559, dtype: float64"
            ]
          },
          "metadata": {},
          "execution_count": 39
        }
      ]
    },
    {
      "cell_type": "markdown",
      "source": [
        "####We still need to finish filling the null values of the dataset"
      ],
      "metadata": {
        "id": "BH6XN5bmcGky"
      },
      "id": "BH6XN5bmcGky"
    },
    {
      "cell_type": "code",
      "source": [
        "df.info()"
      ],
      "metadata": {
        "colab": {
          "base_uri": "https://localhost:8080/"
        },
        "id": "xPl9DWtOYW_e",
        "outputId": "5f600f0f-2539-4d38-961d-2593e80c928e"
      },
      "id": "xPl9DWtOYW_e",
      "execution_count": 69,
      "outputs": [
        {
          "output_type": "stream",
          "name": "stdout",
          "text": [
            "<class 'pandas.core.frame.DataFrame'>\n",
            "RangeIndex: 8523 entries, 0 to 8522\n",
            "Data columns (total 12 columns):\n",
            " #   Column                     Non-Null Count  Dtype  \n",
            "---  ------                     --------------  -----  \n",
            " 0   Item_Identifier            8523 non-null   object \n",
            " 1   Item_Weight                8523 non-null   float64\n",
            " 2   Item_Fat_Content           8523 non-null   object \n",
            " 3   Item_Visibility            8523 non-null   float64\n",
            " 4   Item_Type                  8523 non-null   object \n",
            " 5   Item_MRP                   8523 non-null   float64\n",
            " 6   Outlet_Identifier          8523 non-null   object \n",
            " 7   Outlet_Establishment_Year  8523 non-null   int64  \n",
            " 8   Outlet_Size                6113 non-null   object \n",
            " 9   Outlet_Location_Type       8523 non-null   object \n",
            " 10  Outlet_Type                8523 non-null   object \n",
            " 11  Item_Outlet_Sales          8523 non-null   float64\n",
            "dtypes: float64(4), int64(1), object(7)\n",
            "memory usage: 799.2+ KB\n"
          ]
        }
      ]
    },
    {
      "cell_type": "code",
      "source": [
        "df[\"Outlet_Size\"].unique()"
      ],
      "metadata": {
        "colab": {
          "base_uri": "https://localhost:8080/"
        },
        "id": "V5bv_R89cEpE",
        "outputId": "9407fed2-f37b-4c21-8f8f-723ef44c3966"
      },
      "id": "V5bv_R89cEpE",
      "execution_count": 70,
      "outputs": [
        {
          "output_type": "execute_result",
          "data": {
            "text/plain": [
              "array(['Medium', nan, 'High', 'Small'], dtype=object)"
            ]
          },
          "metadata": {},
          "execution_count": 70
        }
      ]
    },
    {
      "cell_type": "code",
      "source": [
        "df.groupby(\"Outlet_Type\")[\"Outlet_Size\"].value_counts()"
      ],
      "metadata": {
        "colab": {
          "base_uri": "https://localhost:8080/"
        },
        "id": "lrFIsmVjcun0",
        "outputId": "f7115aa0-fdce-43fb-88e2-e6589309f166"
      },
      "id": "lrFIsmVjcun0",
      "execution_count": 72,
      "outputs": [
        {
          "output_type": "execute_result",
          "data": {
            "text/plain": [
              "Outlet_Type        Outlet_Size\n",
              "Grocery Store      Small           528\n",
              "Supermarket Type1  Small          1860\n",
              "                   High            932\n",
              "                   Medium          930\n",
              "Supermarket Type2  Medium          928\n",
              "Supermarket Type3  Medium          935\n",
              "Name: Outlet_Size, dtype: int64"
            ]
          },
          "metadata": {},
          "execution_count": 72
        }
      ]
    },
    {
      "cell_type": "code",
      "source": [],
      "metadata": {
        "id": "o67N1n6Vc1bS"
      },
      "id": "o67N1n6Vc1bS",
      "execution_count": null,
      "outputs": []
    }
  ],
  "metadata": {
    "kernelspec": {
      "display_name": "Python 3",
      "language": "python",
      "name": "python3"
    },
    "colab": {
      "provenance": []
    }
  },
  "nbformat": 4,
  "nbformat_minor": 5
}